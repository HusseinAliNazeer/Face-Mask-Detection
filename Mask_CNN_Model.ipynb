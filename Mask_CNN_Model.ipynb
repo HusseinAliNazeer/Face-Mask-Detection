{
 "cells": [
  {
   "cell_type": "code",
   "execution_count": 2,
   "metadata": {
    "colab": {
     "base_uri": "https://localhost:8080/"
    },
    "id": "OmhMq3BTnzpI",
    "outputId": "ab73d2ae-a66d-4daf-d842-cebc453281c9"
   },
   "outputs": [
    {
     "name": "stdout",
     "output_type": "stream",
     "text": [
      "Mounted at /content/drive\n"
     ]
    }
   ],
   "source": [
    "from google.colab import drive\n",
    "drive.mount('/content/drive')"
   ]
  },
  {
   "cell_type": "code",
   "execution_count": 3,
   "metadata": {
    "id": "OqHgEadhpSlw"
   },
   "outputs": [],
   "source": [
    "# !kaggle datasets download 'ashishjangra27/face-mask-12k-images-dataset'b"
   ]
  },
  {
   "cell_type": "code",
   "execution_count": 10,
   "metadata": {
    "colab": {
     "base_uri": "https://localhost:8080/",
     "height": 35
    },
    "id": "jZpKh_rPmBhz",
    "outputId": "37fa6f4e-284e-4bf9-b321-33da573ea3af"
   },
   "outputs": [
    {
     "data": {
      "application/vnd.google.colaboratory.intrinsic+json": {
       "type": "string"
      },
      "text/plain": [
       "'2.5.0'"
      ]
     },
     "execution_count": 10,
     "metadata": {
      "tags": []
     },
     "output_type": "execute_result"
    }
   ],
   "source": [
    "import tensorflow as tf\n",
    "tf.__version__"
   ]
  },
  {
   "cell_type": "code",
   "execution_count": 34,
   "metadata": {
    "id": "JlIhTio4kPvv"
   },
   "outputs": [],
   "source": [
    "import numpy as np \n",
    "import pandas as pd\n",
    "import matplotlib\n",
    "import matplotlib.pyplot as plt"
   ]
  },
  {
   "cell_type": "code",
   "execution_count": 83,
   "metadata": {
    "id": "SoZiIPIwrCgc"
   },
   "outputs": [],
   "source": [
    "#Load train and test set\n",
    "train_dir = 'Face Mask Dataset/Train'\n",
    "test_dir = 'Face Mask Dataset/Test'\n",
    "val_dir = 'Face Mask Dataset/Validation'"
   ]
  },
  {
   "cell_type": "code",
   "execution_count": 84,
   "metadata": {
    "colab": {
     "base_uri": "https://localhost:8080/"
    },
    "id": "4pBpGTsMrQ4-",
    "outputId": "d6c37f81-5052-41ab-9cec-98500cff3cd7"
   },
   "outputs": [
    {
     "name": "stdout",
     "output_type": "stream",
     "text": [
      "Found 10000 images belonging to 2 classes.\n",
      "Found 800 images belonging to 2 classes.\n",
      "Found 992 images belonging to 2 classes.\n"
     ]
    }
   ],
   "source": [
    "from keras.preprocessing.image import ImageDataGenerator\n",
    "train_datagen = ImageDataGenerator(rescale=1.0/255, horizontal_flip=True, zoom_range=0.2,shear_range=0.2)\n",
    "train_generator = train_datagen.flow_from_directory(directory=train_dir,target_size=(128,128),class_mode='categorical',batch_size=64)\n",
    "\n",
    "val_datagen = ImageDataGenerator(rescale=1.0/255)\n",
    "val_generator = train_datagen.flow_from_directory(directory=val_dir,target_size=(128,128),class_mode='categorical',batch_size=64)\n",
    "\n",
    "test_datagen = ImageDataGenerator(rescale=1.0/255)\n",
    "test_generator = train_datagen.flow_from_directory(directory=test_dir,target_size=(128,128),class_mode='categorical',batch_size=64)"
   ]
  },
  {
   "cell_type": "code",
   "execution_count": 23,
   "metadata": {
    "id": "t3KWauKQjz7r"
   },
   "outputs": [],
   "source": [
    "import keras \n",
    "from keras.models import Sequential\n",
    "from keras.layers import Conv2D, MaxPool2D, Dropout, Dense, Flatten"
   ]
  },
  {
   "cell_type": "code",
   "execution_count": 29,
   "metadata": {
    "colab": {
     "base_uri": "https://localhost:8080/"
    },
    "id": "g61bk8T2kDH5",
    "outputId": "861c9aec-89f5-4d2b-9ab3-084b028696f1"
   },
   "outputs": [
    {
     "name": "stdout",
     "output_type": "stream",
     "text": [
      "Model: \"sequential_2\"\n",
      "_________________________________________________________________\n",
      "Layer (type)                 Output Shape              Param #   \n",
      "=================================================================\n",
      "conv2d_6 (Conv2D)            (None, 126, 126, 256)     7168      \n",
      "_________________________________________________________________\n",
      "max_pooling2d_6 (MaxPooling2 (None, 125, 125, 256)     0         \n",
      "_________________________________________________________________\n",
      "dropout_8 (Dropout)          (None, 125, 125, 256)     0         \n",
      "_________________________________________________________________\n",
      "conv2d_7 (Conv2D)            (None, 123, 123, 128)     295040    \n",
      "_________________________________________________________________\n",
      "max_pooling2d_7 (MaxPooling2 (None, 61, 61, 128)       0         \n",
      "_________________________________________________________________\n",
      "dropout_9 (Dropout)          (None, 61, 61, 128)       0         \n",
      "_________________________________________________________________\n",
      "conv2d_8 (Conv2D)            (None, 59, 59, 64)        73792     \n",
      "_________________________________________________________________\n",
      "max_pooling2d_8 (MaxPooling2 (None, 29, 29, 64)        0         \n",
      "_________________________________________________________________\n",
      "dropout_10 (Dropout)         (None, 29, 29, 64)        0         \n",
      "_________________________________________________________________\n",
      "flatten_2 (Flatten)          (None, 53824)             0         \n",
      "_________________________________________________________________\n",
      "dense_4 (Dense)              (None, 128)               6889600   \n",
      "_________________________________________________________________\n",
      "dropout_11 (Dropout)         (None, 128)               0         \n",
      "_________________________________________________________________\n",
      "dense_5 (Dense)              (None, 2)                 258       \n",
      "=================================================================\n",
      "Total params: 7,265,858\n",
      "Trainable params: 7,265,858\n",
      "Non-trainable params: 0\n",
      "_________________________________________________________________\n"
     ]
    }
   ],
   "source": [
    "cnn_model = Sequential()\n",
    "\n",
    "# first convolutional layer\n",
    "cnn_model.add(Conv2D(filters=256, kernel_size=3, input_shape=[128, 128, 3]))\n",
    "cnn_model.add(MaxPool2D(pool_size=2, strides=1))\n",
    "cnn_model.add(Dropout(0.3))\n",
    "\n",
    "# second convolutional layer\n",
    "cnn_model.add(Conv2D(filters=128, kernel_size=3, activation=\"relu\"))\n",
    "cnn_model.add(MaxPool2D(pool_size=2, strides=2))\n",
    "cnn_model.add(Dropout(0.3))\n",
    "\n",
    "# Third convolutional layer\n",
    "cnn_model.add(Conv2D(filters=64, kernel_size=3, activation=\"relu\"))\n",
    "cnn_model.add(MaxPool2D(pool_size=2, strides=2))\n",
    "cnn_model.add(Dropout(0.3))\n",
    "\n",
    "# Flattening\n",
    "cnn_model.add(Flatten())\n",
    "\n",
    "# Step 4 - Full Connection\n",
    "cnn_model.add(Dense(units=128, activation='relu'))\n",
    "cnn_model.add(Dropout(0.3))\n",
    "\n",
    "# Step 5 - Output Layer\n",
    "cnn_model.add(Dense(units=2, activation='sigmoid'))\n",
    "cnn_model.summary()"
   ]
  },
  {
   "cell_type": "code",
   "execution_count": 27,
   "metadata": {
    "colab": {
     "base_uri": "https://localhost:8080/"
    },
    "id": "_Gko-XeZt6uw",
    "outputId": "c2981c6e-ffd1-4a21-eb62-a65f79aa0a96"
   },
   "outputs": [
    {
     "data": {
      "text/plain": [
       "10000"
      ]
     },
     "execution_count": 27,
     "metadata": {
      "tags": []
     },
     "output_type": "execute_result"
    }
   ],
   "source": [
    "train_generator.n"
   ]
  },
  {
   "cell_type": "code",
   "execution_count": 30,
   "metadata": {
    "colab": {
     "base_uri": "https://localhost:8080/"
    },
    "id": "iycF3ZUCkH_L",
    "outputId": "fcd5051c-c99d-4230-d4f9-49c360f04cb0"
   },
   "outputs": [
    {
     "name": "stdout",
     "output_type": "stream",
     "text": [
      "Epoch 1/5\n",
      "156/156 [==============================] - 71s 445ms/step - loss: 0.5033 - accuracy: 0.8407 - val_loss: 0.1097 - val_accuracy: 0.9792\n",
      "Epoch 2/5\n",
      "156/156 [==============================] - 70s 447ms/step - loss: 0.1184 - accuracy: 0.9602 - val_loss: 0.0858 - val_accuracy: 0.9753\n",
      "Epoch 3/5\n",
      "156/156 [==============================] - 69s 443ms/step - loss: 0.0895 - accuracy: 0.9671 - val_loss: 0.0728 - val_accuracy: 0.9779\n",
      "Epoch 4/5\n",
      "156/156 [==============================] - 70s 444ms/step - loss: 0.0733 - accuracy: 0.9759 - val_loss: 0.0487 - val_accuracy: 0.9883\n",
      "Epoch 5/5\n",
      "156/156 [==============================] - 70s 448ms/step - loss: 0.0550 - accuracy: 0.9803 - val_loss: 0.0373 - val_accuracy: 0.9870\n"
     ]
    }
   ],
   "source": [
    "# Part 3 - Training the CNN\n",
    "\n",
    "# Compiling the CNN\n",
    "cnn_model.compile(optimizer = 'adam', loss = 'binary_crossentropy', metrics = ['accuracy'])\n",
    "\n",
    "# Training the CNN on the Training set and evaluating it on the Test set\n",
    "history = cnn_model.fit(train_generator,\n",
    "                        steps_per_epoch = 10000//64,\n",
    "                        epochs = 5,\n",
    "                        validation_data = val_generator,\n",
    "                        validation_steps = 800//64,\n",
    "                        verbose=1)"
   ]
  },
  {
   "cell_type": "code",
   "execution_count": 184,
   "metadata": {
    "colab": {
     "base_uri": "https://localhost:8080/"
    },
    "id": "jhffFBEbGD0Y",
    "outputId": "4e298a84-3b8e-4e7b-b292-21cb7bb916a6"
   },
   "outputs": [
    {
     "name": "stdout",
     "output_type": "stream",
     "text": [
      "Reading package lists... Done\n",
      "Building dependency tree       \n",
      "Reading state information... Done\n",
      "graphviz is already the newest version (2.40.1-2).\n",
      "0 upgraded, 0 newly installed, 0 to remove and 39 not upgraded.\n"
     ]
    }
   ],
   "source": [
    "!apt install graphviz"
   ]
  },
  {
   "cell_type": "code",
   "execution_count": 48,
   "metadata": {
    "id": "TXKGciF8xIc7"
   },
   "outputs": [],
   "source": [
    "matplotlib.rcParams['figure.figsize'] = (9,6)"
   ]
  },
  {
   "cell_type": "code",
   "execution_count": 49,
   "metadata": {
    "colab": {
     "base_uri": "https://localhost:8080/",
     "height": 388
    },
    "id": "9ze2XGmLkKyQ",
    "outputId": "39345cb1-0e76-4880-8673-3cbe9443e5a2"
   },
   "outputs": [
    {
     "data": {
      "image/png": "[encoded data removed]",
      "text/plain": [
       "<Figure size 648x432 with 1 Axes>"
      ]
     },
     "metadata": {
      "needs_background": "light",
      "tags": []
     },
     "output_type": "display_data"
    }
   ],
   "source": [
    "pd.DataFrame(history.history).plot()\n",
    "plt.xlabel(\"No. of iterations\")\n",
    "plt.ylabel(\"Accuracy\");"
   ]
  },
  {
   "cell_type": "code",
   "execution_count": 50,
   "metadata": {
    "colab": {
     "base_uri": "https://localhost:8080/",
     "height": 404
    },
    "id": "yKkDiAPFsd_u",
    "outputId": "7c457b53-483a-46e9-f5b4-5153793277ef"
   },
   "outputs": [
    {
     "data": {
      "image/png": "[encoded data removed]",
      "text/plain": [
       "<Figure size 648x432 with 1 Axes>"
      ]
     },
     "metadata": {
      "needs_background": "light",
      "tags": []
     },
     "output_type": "display_data"
    }
   ],
   "source": [
    "# summarize history for accuracy\n",
    "plt.plot(history.history['accuracy'])\n",
    "plt.plot(history.history['val_accuracy'])\n",
    "plt.title('model accuracy')\n",
    "plt.ylabel('accuracy')\n",
    "plt.xlabel('epoch')\n",
    "plt.legend(['train', 'test'], loc='upper left')\n",
    "plt.show()"
   ]
  },
  {
   "cell_type": "code",
   "execution_count": 51,
   "metadata": {
    "colab": {
     "base_uri": "https://localhost:8080/",
     "height": 404
    },
    "id": "pkL2wTCmwRYM",
    "outputId": "6a385cc0-a848-4b3f-b967-768f63d0be2b"
   },
   "outputs": [
    {
     "data": {
      "image/png": "[encoded data removed]",
      "text/plain": [
       "<Figure size 648x432 with 1 Axes>"
      ]
     },
     "metadata": {
      "needs_background": "light",
      "tags": []
     },
     "output_type": "display_data"
    }
   ],
   "source": [
    "# summarize history for loss\n",
    "plt.plot(history.history['loss'])\n",
    "plt.plot(history.history['val_loss'])\n",
    "plt.title('model loss')\n",
    "plt.ylabel('loss')\n",
    "plt.xlabel('epoch')\n",
    "plt.legend(['train', 'test'], loc='upper left')\n",
    "plt.show()"
   ]
  },
  {
   "cell_type": "code",
   "execution_count": 107,
   "metadata": {
    "colab": {
     "base_uri": "https://localhost:8080/"
    },
    "id": "qGrjO_XYwVfN",
    "outputId": "27acb365-1d32-4d8b-9b09-9532caaeb7f1"
   },
   "outputs": [
    {
     "name": "stdout",
     "output_type": "stream",
     "text": [
      "(992, 128, 128, 3)\n",
      "(992, 2)\n"
     ]
    }
   ],
   "source": [
    "X_test=np.concatenate([test_generator.next()[0] for i in range(test_generator.__len__())])\n",
    "y_test=np.concatenate([test_generator.next()[1] for i in range(test_generator.__len__())])\n",
    "print(X_test.shape)\n",
    "print(y_test.shape)"
   ]
  },
  {
   "cell_type": "code",
   "execution_count": 108,
   "metadata": {
    "colab": {
     "base_uri": "https://localhost:8080/"
    },
    "id": "xEe0NlZNzF5w",
    "outputId": "4fceb5c9-d3cf-4d5c-dd27-b8ba62362234"
   },
   "outputs": [
    {
     "name": "stderr",
     "output_type": "stream",
     "text": [
      "/usr/local/lib/python3.7/dist-packages/keras/engine/training.py:1976: UserWarning: `Model.predict_generator` is deprecated and will be removed in a future version. Please use `Model.predict`, which supports generators.\n",
      "  warnings.warn('`Model.predict_generator` is deprecated and '\n"
     ]
    },
    {
     "data": {
      "text/plain": [
       "array([[461,  22],\n",
       "       [  4, 505]])"
      ]
     },
     "execution_count": 108,
     "metadata": {
      "tags": []
     },
     "output_type": "execute_result"
    }
   ],
   "source": [
    "from sklearn.metrics import confusion_matrix\n",
    "y_pred = cnn_model.predict_generator(test_generator,992//64 +1)\n",
    "matrix = confusion_matrix(y_test.argmax(axis=1), y_pred.argmax(axis=1))\n",
    "matrix"
   ]
  },
  {
   "cell_type": "code",
   "execution_count": 160,
   "metadata": {
    "colab": {
     "base_uri": "https://localhost:8080/",
     "height": 386
    },
    "id": "kSjyRWks8iNT",
    "outputId": "6819a2ad-dfb3-49bc-adb7-502f44f55b18"
   },
   "outputs": [
    {
     "data": {
      "image/png": "[encoded data removed]",
      "text/plain": [
       "<Figure size 648x432 with 2 Axes>"
      ]
     },
     "metadata": {
      "tags": []
     },
     "output_type": "display_data"
    }
   ],
   "source": [
    "df_cm = pd.DataFrame(matrix, index = [i for i in \"Mask No_Mask\".split()],\n",
    "                  columns = [i for i in \"Mask No_Mask\".split()])\n",
    "sns.heatmap(df_cm,annot=True,fmt=\"d\");"
   ]
  },
  {
   "cell_type": "code",
   "execution_count": 173,
   "metadata": {
    "colab": {
     "base_uri": "https://localhost:8080/",
     "height": 382
    },
    "id": "NX98rDjkCLje",
    "outputId": "9278f2bc-8df8-4fd4-eb16-256d3fda7714"
   },
   "outputs": [
    {
     "data": {
      "image/png": "[encoded data removed]",
      "text/plain": [
       "<Figure size 648x432 with 2 Axes>"
      ]
     },
     "metadata": {
      "tags": []
     },
     "output_type": "display_data"
    }
   ],
   "source": [
    "sns.heatmap(matrix/sum(matrix),annot=True,fmt='.2%',cmap='Blues',xticklabels=[\"Mask\",\"No Mask\"], yticklabels=[\"Mask\",\"No Mask\"]);"
   ]
  },
  {
   "cell_type": "code",
   "execution_count": 171,
   "metadata": {
    "colab": {
     "base_uri": "https://localhost:8080/"
    },
    "id": "zFcHakZeBgA6",
    "outputId": "62323855-7f23-491a-d378-c97755fec22a"
   },
   "outputs": [
    {
     "data": {
      "text/plain": [
       "array([[461,  22],\n",
       "       [  4, 505]])"
      ]
     },
     "execution_count": 171,
     "metadata": {
      "tags": []
     },
     "output_type": "execute_result"
    }
   ],
   "source": [
    "np.array(df_cm)"
   ]
  },
  {
   "cell_type": "code",
   "execution_count": null,
   "metadata": {
    "id": "oRlF0z9TEjRC"
   },
   "outputs": [],
   "source": []
  }
 ],
 "metadata": {
  "accelerator": "GPU",
  "colab": {
   "name": "Mask_Model.ipynb",
   "provenance": []
  },
  "kernelspec": {
   "display_name": "Python 3",
   "language": "python",
   "name": "python3"
  },
  "language_info": {
   "codemirror_mode": {
    "name": "ipython",
    "version": 3
   },
   "file_extension": ".py",
   "mimetype": "text/x-python",
   "name": "python",
   "nbconvert_exporter": "python",
   "pygments_lexer": "ipython3",
   "version": "3.8.10"
  }
 },
 "nbformat": 4,
 "nbformat_minor": 4
}
